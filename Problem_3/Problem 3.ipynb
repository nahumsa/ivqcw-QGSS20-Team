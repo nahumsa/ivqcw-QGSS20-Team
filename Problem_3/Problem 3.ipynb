{
 "cells": [
  {
   "cell_type": "markdown",
   "metadata": {},
   "source": [
    "# Solution\n",
    "\n",
    "This notebook is the solution of Problem 3 of the `IV Workshop de Computação Quântica`, for the team `QGSS20 Team`."
   ]
  },
  {
   "cell_type": "markdown",
   "metadata": {},
   "source": [
    "# Imports"
   ]
  },
  {
   "cell_type": "code",
   "execution_count": 2,
   "metadata": {},
   "outputs": [
    {
     "name": "stdout",
     "output_type": "stream",
     "text": [
      "Q-CTRL package upgrade available. Your version is 14.2.1. New Version is 14.3.0.\n"
     ]
    }
   ],
   "source": [
    "# Import packages.\n",
    "import numpy as np\n",
    "import matplotlib.pyplot as plt\n",
    "import qctrlvisualizer\n",
    "from qctrl import Qctrl\n",
    "\n",
    "# Apply Q-CTRL style to plots created in pyplot.\n",
    "plt.style.use(qctrlvisualizer.get_qctrl_style())\n",
    "\n",
    "# Start a Boulder Opal session.\n",
    "qctrl = Qctrl()"
   ]
  },
  {
   "cell_type": "markdown",
   "metadata": {},
   "source": [
    "# Creating Helper functions"
   ]
  },
  {
   "cell_type": "code",
   "execution_count": 83,
   "metadata": {},
   "outputs": [],
   "source": [
    "from typing import List\n",
    "\n",
    "control_count = 100\n",
    "segment_count = 10\n",
    "duration = 50.0\n",
    "shot_count = 1000\n",
    "\n",
    "def initialize_parameters() -> np.ndarray:\n",
    "    \"\"\"Initializes the parameters needed for the optimization.\n",
    "\n",
    "    Returns:\n",
    "        np.ndarray: Initialization of random parameters.\n",
    "    \"\"\"\n",
    "    return np.random.random(size=[control_count, 2 * segment_count])\n",
    "\n",
    "def calculate_values(parameters: np.ndarray) -> np.ndarray:\n",
    "    \"\"\"Calculate the values needed for the pulse.\n",
    "\n",
    "    Args:\n",
    "        parameters (np.ndarray): np.array of parameters of shape\n",
    "        (2 * segment_count)\n",
    "\n",
    "    Returns:\n",
    "        np.ndarray: Normalized value of the pulse.\n",
    "    \"\"\"\n",
    "    parameters = parameters.reshape(2, segment_count)\n",
    "    values = (parameters[0] + 1j * parameters[1])\n",
    "    return values / np.linalg.norm(values)\n",
    "\n",
    "def create_controls(parameters: np.ndarray) -> List[dict]:\n",
    "    \"\"\" Create controls for `control_count` number of\n",
    "    pulses, given `parameters`.\n",
    "\n",
    "    Args:\n",
    "        parameters (np.ndarray): np.array of parameters of \n",
    "        shape (control_count, 2 * segment_count)\n",
    "\n",
    "    Returns:\n",
    "        List[dict]: List of pulse schedules.\n",
    "    \"\"\"\n",
    "    controls = []\n",
    "    for k in range(control_count):\n",
    "        values = calculate_values(parameters[k])\n",
    "        controls.append({\"duration\": duration, \"values\": values})\n",
    "    \n",
    "    return controls\n",
    "\n",
    "def run_experiments(parameters: np.array) -> List[float]:\n",
    "    \"\"\"Run experiments for a given set of parameters.\n",
    "\n",
    "    Args:\n",
    "        parameters (np.array): np.array of parameters of \n",
    "        shape (control_count, 2 * segment_count)\n",
    "\n",
    "    Returns:\n",
    "        List[float]: Results of the experiment\n",
    "    \"\"\"\n",
    "    # Create control parameters for the experiment\n",
    "    controls = create_controls(parameters)\n",
    "    \n",
    "    # Run the experiment on the cloud\n",
    "    experiment_results = qctrl.functions.calculate_hackathon_measurements(\n",
    "        controls=controls, shot_count=shot_count\n",
    "    )\n",
    "    \n",
    "    measurements = experiment_results.measurements\n",
    "\n",
    "    p1 = []\n",
    "    \n",
    "    for _, measurement_counts in enumerate(measurements):\n",
    "        p1.append(1 - (measurement_counts.count(1) / shot_count))\n",
    "    \n",
    "    return p1"
   ]
  },
  {
   "cell_type": "code",
   "execution_count": 62,
   "metadata": {},
   "outputs": [],
   "source": [
    "def organize_results(parameters, infidelities):\n",
    "    \"\"\"\n",
    "    This function accepts a list of parameters and a list of costs, and\n",
    "    orgnizes them in a format that is accepted by the closed-loop optimizer.\n",
    "    \"\"\"\n",
    "    return [\n",
    "        qctrl.types.closed_loop_optimization_step.CostFunctionResult(\n",
    "            parameters=list(parameters), cost=cost\n",
    "        )\n",
    "        for parameters, cost in zip(parameters, infidelities)\n",
    "    ]"
   ]
  },
  {
   "cell_type": "markdown",
   "metadata": {},
   "source": [
    "# Defining the optimizers"
   ]
  },
  {
   "cell_type": "code",
   "execution_count": 64,
   "metadata": {},
   "outputs": [],
   "source": [
    "type_of_optimization = \"gaussian process\"\n",
    "\n",
    "bound = qctrl.types.closed_loop_optimization_step.BoxConstraint(\n",
    "    lower_bound=-5 * np.pi / duration, upper_bound=5 * np.pi / duration\n",
    ")\n",
    "\n",
    "if type_of_optimization == \"gaussian process\":\n",
    "    length_scale_bound = qctrl.types.closed_loop_optimization_step.BoxConstraint(\n",
    "        lower_bound=1e-10, upper_bound=1e5\n",
    "    )\n",
    "\n",
    "    initializer = qctrl.types.closed_loop_optimization_step.GaussianProcessInitializer(\n",
    "        length_scale_bounds=[length_scale_bound] * 2 *segment_count,\n",
    "        bounds=[bound] * 2 * segment_count,\n",
    "        rng_seed=0,\n",
    "    )\n",
    "\n",
    "    optimizer = qctrl.types.closed_loop_optimization_step.Optimizer(\n",
    "        gaussian_process_initializer=initializer,\n",
    "    )\n",
    "\n",
    "elif type_of_optimization == \"simulated annealing\":\n",
    "    initializer = qctrl.types.closed_loop_optimization_step.SimulatedAnnealingInitializer(\n",
    "        bounds=[bound] * 2 * segment_count,\n",
    "        temperatures=[400000] * 2 * segment_count,\n",
    "        temperature_cost=0.1,\n",
    "        rng_seed=0,\n",
    "    )\n",
    "\n",
    "    optimizer = qctrl.types.closed_loop_optimization_step.Optimizer(\n",
    "        simulated_annealing_initializer=initializer\n",
    "    )\n",
    "\n",
    "else:\n",
    "    raise NotImplementedError(\"type_of_optimization not implemented\")"
   ]
  },
  {
   "cell_type": "code",
   "execution_count": 65,
   "metadata": {
    "scrolled": true
   },
   "outputs": [
    {
     "data": {
      "application/vnd.jupyter.widget-view+json": {
       "model_id": "",
       "version_major": 2,
       "version_minor": 0
      },
      "text/plain": [
       "HBox(children=(FloatProgress(value=0.0), HTML(value='')))"
      ]
     },
     "metadata": {},
     "output_type": "display_data"
    },
    {
     "name": "stdout",
     "output_type": "stream",
     "text": [
      "Your task calculate_hackathon_measurements (action_id=\"704811\") has completed.\n",
      "\r"
     ]
    }
   ],
   "source": [
    "# # Run the experiments\n",
    "# parameter_set = initialize_parameters()\n",
    "# experiment_results = run_experiments(parameter_set)"
   ]
  },
  {
   "cell_type": "code",
   "execution_count": 66,
   "metadata": {},
   "outputs": [],
   "source": [
    "# # get the best result from the experiments\n",
    "# best_cost, best_controls = min(\n",
    "#     zip(experiment_results, parameter_set), key=lambda params: params[0]\n",
    "# )\n",
    "\n",
    "# optimization_count = 0"
   ]
  },
  {
   "cell_type": "markdown",
   "metadata": {},
   "source": [
    "# Optimization Procedure"
   ]
  },
  {
   "cell_type": "code",
   "execution_count": null,
   "metadata": {},
   "outputs": [],
   "source": [
    "from IPython.display import clear_output\n",
    "\n",
    "test_point_count = control_count\n",
    "\n",
    "parameter_set = initialize_parameters()\n",
    "experiment_results = run_experiments(parameter_set)\n",
    "controls = create_controls(parameter_set)\n",
    "\n",
    "best_cost, best_controls = min(\n",
    "    zip(experiment_results, parameter_set), key=lambda params: params[0]\n",
    ")\n",
    "optimization_count = 0\n",
    "\n",
    "\n",
    "\n",
    "# Set the target infidelity for the X gate\n",
    "target_infidelity = 0.1\n",
    "\n",
    "while best_cost > target_infidelity:\n",
    "    \n",
    "    # Print the current best cost.\n",
    "    optimization_steps = (\n",
    "        \"optimization step\" if optimization_count == 1 else \"optimization steps\"\n",
    "    )\n",
    "    \n",
    "    print(\n",
    "        f\"Best infidelity after {optimization_count} Boulder Opal {optimization_steps}: {best_cost}\"\n",
    "    )\n",
    "    \n",
    "    \n",
    "    # Organize the experiment results into the proper input format.\n",
    "    results = organize_results(parameter_set, experiment_results)\n",
    "\n",
    "    # Call the automated closed-loop optimizer and obtain the next set of test points.\n",
    "    optimization_result = qctrl.functions.calculate_closed_loop_optimization_step(\n",
    "        optimizer=optimizer, results=results , test_point_count=test_point_count\n",
    "    )\n",
    "    \n",
    "    optimization_count += 1\n",
    "\n",
    "    # Organize the data returned by the automated closed-loop optimizer.\n",
    "    parameter_set = np.array(\n",
    "        [test_point.parameters for test_point in optimization_result.test_points]\n",
    "    )\n",
    "    \n",
    "    # Run the optimizer\n",
    "    optimizer = qctrl.types.closed_loop_optimization_step.Optimizer(\n",
    "        state=optimization_result.state\n",
    "    )\n",
    "    \n",
    "    \n",
    "    \n",
    "    # Obtain experiment results that the automated closed-loop optimizer requested.\n",
    "    experiment_results = run_experiments(parameter_set)\n",
    "    \n",
    "    \n",
    "    # Record the best results after this round of experiments.\n",
    "    cost, controls = min(\n",
    "        zip(experiment_results, parameter_set), key=lambda params: params[0]\n",
    "    )\n",
    "    \n",
    "    \n",
    "    if cost < best_cost:\n",
    "        best_cost = cost\n",
    "        best_controls = controls\n",
    "\n",
    "    clear_output()"
   ]
  },
  {
   "cell_type": "code",
   "execution_count": 121,
   "metadata": {},
   "outputs": [
    {
     "name": "stdout",
     "output_type": "stream",
     "text": [
      "Infidelity: 0.02400000000000002\n"
     ]
    },
    {
     "data": {
      "image/png": "[encoded data removed]",
      "text/plain": [
       "<Figure size 720x180 with 1 Axes>"
      ]
     },
     "metadata": {},
     "output_type": "display_data"
    }
   ],
   "source": [
    "from qctrlvisualizer import get_qctrl_style, plot_controls\n",
    "\n",
    "# Print final best cost.\n",
    "print(f\"Infidelity: {best_cost}\")\n",
    "\n",
    "# Plot controls that correspond to the best cost.\n",
    "plot_controls(\n",
    "    figure=plt.figure(),\n",
    "    controls={\n",
    "        r\"$\\Omega(t)$\": [\n",
    "            {\"duration\": duration / 2 / len(best_controls), \"value\": value}\n",
    "            for value in best_controls\n",
    "        ]\n",
    "    },\n",
    ")"
   ]
  },
  {
   "cell_type": "code",
   "execution_count": 90,
   "metadata": {},
   "outputs": [],
   "source": [
    "def create_optimal_controls(parameters: np.ndarray, repetitions: int=1) -> List[dict]:\n",
    "    \"\"\"Create a list of dictionary with the optimal controls for the NOT gate.\n",
    "\n",
    "    Args:\n",
    "        parameters (np.ndarray): np.array of parameters of shape\n",
    "        (2 * segment_count)\n",
    "        \n",
    "        repetitions (int, optional): Number of repetition. Defaults to 1.\n",
    "\n",
    "    Returns:\n",
    "        List[dict] : List of optimal pulse schedules.\n",
    "    \"\"\"\n",
    "    controls = []\n",
    "    values = calculate_values(parameters)\n",
    "    \n",
    "    if repetitions != 1:\n",
    "        controls.append({\"duration\": duration,\n",
    "                         \"values\": values,\n",
    "                         \"repetition_count\": repetitions})\n",
    "    \n",
    "    else:\n",
    "        controls.append({\"duration\": duration,\n",
    "                         \"values\": values,\n",
    "                         })\n",
    "    \n",
    "    return controls\n",
    "\n",
    "def create_optimal_hadamard_controls(parameters: np.ndarray, repetitions: int=1) -> List[dict]:\n",
    "    \"\"\"Create a list of dictionary with the optimal controls for the Hadamard gate.\n",
    "\n",
    "    Args:\n",
    "        parameters (np.ndarray): np.array of parameters of shape\n",
    "        (2 * segment_count)\n",
    "        \n",
    "        repetitions (int, optional): Number of repetition. Defaults to 1.\n",
    "\n",
    "    Returns:\n",
    "        List[dict] : List of optimal pulse schedules.\n",
    "    \"\"\"\n",
    "    controls = []\n",
    "    values = calculate_values(parameters)\n",
    "    \n",
    "    if repetitions != 1:\n",
    "        controls.append({\"duration\": duration / 2,\n",
    "                         \"values\": values,\n",
    "                         \"repetition_count\": repetitions})\n",
    "    else:\n",
    "        controls.append({\"duration\": duration / 2,\n",
    "                         \"values\": values,\n",
    "                         })\n",
    "    \n",
    "    return controls"
   ]
  },
  {
   "cell_type": "markdown",
   "metadata": {},
   "source": [
    "# Repetition Plots"
   ]
  },
  {
   "cell_type": "markdown",
   "metadata": {},
   "source": [
    "## NOT gate"
   ]
  },
  {
   "cell_type": "code",
   "execution_count": 115,
   "metadata": {},
   "outputs": [],
   "source": [
    "repetitions = np.arange(1, 20)\n",
    "p0, p1, p2 = [], [], []\n",
    "for rep in repetitions:\n",
    "    controls_hadamard = create_optimal_controls(best_controls, repetitions=int(rep))\n",
    "\n",
    "    measurements = qctrl.functions.calculate_hackathon_measurements(\n",
    "            controls=controls_hadamard, shot_count=shot_count\n",
    "            ).measurements\n",
    "    \n",
    "    for k, measurement_counts in enumerate(measurements):\n",
    "        p0.append(measurement_counts.count(0) / shot_count)\n",
    "        p1.append(measurement_counts.count(1) / shot_count)\n",
    "        p2.append(measurement_counts.count(2) / shot_count)\n",
    "    \n",
    "    clear_output()"
   ]
  },
  {
   "cell_type": "code",
   "execution_count": 118,
   "metadata": {},
   "outputs": [
    {
     "data": {
      "image/png": "[encoded data removed]",
      "text/plain": [
       "<Figure size 720x360 with 1 Axes>"
      ]
     },
     "metadata": {},
     "output_type": "display_data"
    }
   ],
   "source": [
    "plt.plot(repetitions, p0, '-o', label=r\"$| 0 \\rangle$\")\n",
    "plt.plot(repetitions, p1, '-o', label=r\"$| 1 \\rangle$\")\n",
    "plt.plot(repetitions, p2, '-o', label=r\"$| 2 \\rangle$\")\n",
    "plt.title(\"Not\", size=16)\n",
    "plt.xlabel(\"Repetitions\", size=16)\n",
    "plt.ylabel(\"Probability\", size=16)\n",
    "plt.xticks([i for i in repetitions])\n",
    "plt.legend()\n",
    "plt.show()"
   ]
  },
  {
   "cell_type": "markdown",
   "metadata": {},
   "source": [
    "# Testing the output of the gate"
   ]
  },
  {
   "cell_type": "code",
   "execution_count": null,
   "metadata": {},
   "outputs": [],
   "source": [
    "controls = create_optimal_controls(best_controls, repetitions=2)\n",
    "controls_hadamard = create_optimal_hadamard_controls(best_controls, repetitions=10)\n",
    "\n",
    "measurements = qctrl.functions.calculate_hackathon_measurements(\n",
    "        controls=controls_hadamard, shot_count=shot_count\n",
    "    ).measurements\n",
    "\n",
    "\n",
    "for k, measurement_counts in enumerate(measurements):\n",
    "    p0 = measurement_counts.count(0) / shot_count\n",
    "    p1 = measurement_counts.count(1) / shot_count\n",
    "    p2 = measurement_counts.count(2) / shot_count\n",
    "    print(f\"control #{k}: P(|0>) = {p0:.2f}, P(|1>) = {p1:.2f}, P(|2>) = {p2:.2f}\")"
   ]
  },
  {
   "cell_type": "markdown",
   "metadata": {},
   "source": [
    "# Create Submission"
   ]
  },
  {
   "cell_type": "code",
   "execution_count": 349,
   "metadata": {},
   "outputs": [],
   "source": [
    "import jsonpickle.ext.numpy as jsonpickle_numpy\n",
    "import jsonpickle\n",
    "\n",
    "jsonpickle_numpy.register_handlers()\n",
    "\n",
    "not_control = controls[0]\n",
    "json_not_control = jsonpickle.encode(not_control)\n",
    "with open(\"not_control.json\", \"w\") as file:\n",
    "    file.write(json_not_control)"
   ]
  },
  {
   "cell_type": "code",
   "execution_count": null,
   "metadata": {},
   "outputs": [],
   "source": [
    "hadamard_control = controls_hadamard[0]\n",
    "json_hadamard_control = jsonpickle.encode(hadamard_control)\n",
    "with open(\"hadamard_control.json\", \"w\") as file:\n",
    "    file.write(json_hadamard_control)"
   ]
  }
 ],
 "metadata": {
  "kernelspec": {
   "display_name": "Python 3",
   "language": "python",
   "name": "python3"
  },
  "language_info": {
   "codemirror_mode": {
    "name": "ipython",
    "version": 3
   },
   "file_extension": ".py",
   "mimetype": "text/x-python",
   "name": "python",
   "nbconvert_exporter": "python",
   "pygments_lexer": "ipython3",
   "version": "3.7.6"
  }
 },
 "nbformat": 4,
 "nbformat_minor": 4
}
